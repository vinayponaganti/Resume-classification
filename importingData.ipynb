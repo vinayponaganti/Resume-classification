{
 "cells": [
  {
   "cell_type": "code",
   "execution_count": 1,
   "id": "aeeaddcc",
   "metadata": {},
   "outputs": [],
   "source": [
    "from glob import glob\n",
    "import pandas as pd\n",
    "import docx2txt\n",
    "from win32com import client\n",
    "import os\n",
    "from docx import Document \n",
    "import PyPDF2\n",
    "import textract\n",
    "from pyresparser import ResumeParser\n",
    "import spacy\n",
    "import json\n",
    "import re\n",
    "from nltk.tokenize import TweetTokenizer\n",
    "import string\n",
    "import spacy\n",
    "import pickle\n",
    "import random"
   ]
  },
  {
   "cell_type": "code",
   "execution_count": 2,
   "id": "a320b9f8",
   "metadata": {},
   "outputs": [],
   "source": [
    "files = glob(\"D:\\\\dataScience\\\\projects\\\\NLP_RESUME_CLASIFICATION\\\\data_sets\\\\Resumes\\\\All resumes\\\\*\")"
   ]
  },
  {
   "cell_type": "code",
   "execution_count": 3,
   "id": "e9189d36",
   "metadata": {
    "scrolled": true
   },
   "outputs": [
    {
     "data": {
      "text/plain": [
       "['D:\\\\dataScience\\\\projects\\\\NLP_RESUME_CLASIFICATION\\\\data_sets\\\\Resumes\\\\All resumes\\\\Anil kumar.docx',\n",
       " 'D:\\\\dataScience\\\\projects\\\\NLP_RESUME_CLASIFICATION\\\\data_sets\\\\Resumes\\\\All resumes\\\\AradhanaTripathi[4_0].docx',\n",
       " 'D:\\\\dataScience\\\\projects\\\\NLP_RESUME_CLASIFICATION\\\\data_sets\\\\Resumes\\\\All resumes\\\\Buddha Vamsi.docx',\n",
       " 'D:\\\\dataScience\\\\projects\\\\NLP_RESUME_CLASIFICATION\\\\data_sets\\\\Resumes\\\\All resumes\\\\ChinnaSubbarayuduM_Hexaware.docx',\n",
       " 'D:\\\\dataScience\\\\projects\\\\NLP_RESUME_CLASIFICATION\\\\data_sets\\\\Resumes\\\\All resumes\\\\Gopi Krishna_Hexaware.docx',\n",
       " 'D:\\\\dataScience\\\\projects\\\\NLP_RESUME_CLASIFICATION\\\\data_sets\\\\Resumes\\\\All resumes\\\\Hari Krishna M_Hexaware.doc',\n",
       " 'D:\\\\dataScience\\\\projects\\\\NLP_RESUME_CLASIFICATION\\\\data_sets\\\\Resumes\\\\All resumes\\\\Harikrishna Akula_Hexaware.doc',\n",
       " 'D:\\\\dataScience\\\\projects\\\\NLP_RESUME_CLASIFICATION\\\\data_sets\\\\Resumes\\\\All resumes\\\\Hima Mendu_Hexaware.doc',\n",
       " 'D:\\\\dataScience\\\\projects\\\\NLP_RESUME_CLASIFICATION\\\\data_sets\\\\Resumes\\\\All resumes\\\\Himaja G_(Hexaware).docx',\n",
       " 'D:\\\\dataScience\\\\projects\\\\NLP_RESUME_CLASIFICATION\\\\data_sets\\\\Resumes\\\\All resumes\\\\Internship_Ravali_Musquare Technologies (1).docx',\n",
       " 'D:\\\\dataScience\\\\projects\\\\NLP_RESUME_CLASIFICATION\\\\data_sets\\\\Resumes\\\\All resumes\\\\Internship_Susovan Bag_Musquare Technologies.docx',\n",
       " 'D:\\\\dataScience\\\\projects\\\\NLP_RESUME_CLASIFICATION\\\\data_sets\\\\Resumes\\\\All resumes\\\\J. Sumanth Royal_Hexaware.doc',\n",
       " 'D:\\\\dataScience\\\\projects\\\\NLP_RESUME_CLASIFICATION\\\\data_sets\\\\Resumes\\\\All resumes\\\\Jyotiverma_Heaware.docx',\n",
       " 'D:\\\\dataScience\\\\projects\\\\NLP_RESUME_CLASIFICATION\\\\data_sets\\\\Resumes\\\\All resumes\\\\kamballapradeep.docx',\n",
       " 'D:\\\\dataScience\\\\projects\\\\NLP_RESUME_CLASIFICATION\\\\data_sets\\\\Resumes\\\\All resumes\\\\Madeeswar A_Hexaware.doc',\n",
       " 'D:\\\\dataScience\\\\projects\\\\NLP_RESUME_CLASIFICATION\\\\data_sets\\\\Resumes\\\\All resumes\\\\MooraboyinaGuravaiah_Hexaware.docx',\n",
       " 'D:\\\\dataScience\\\\projects\\\\NLP_RESUME_CLASIFICATION\\\\data_sets\\\\Resumes\\\\All resumes\\\\Naresh Babu Cherukuri_Hexaware.doc',\n",
       " 'D:\\\\dataScience\\\\projects\\\\NLP_RESUME_CLASIFICATION\\\\data_sets\\\\Resumes\\\\All resumes\\\\Nazeer Basha.doc',\n",
       " 'D:\\\\dataScience\\\\projects\\\\NLP_RESUME_CLASIFICATION\\\\data_sets\\\\Resumes\\\\All resumes\\\\Neeraj Mishra.docx',\n",
       " 'D:\\\\dataScience\\\\projects\\\\NLP_RESUME_CLASIFICATION\\\\data_sets\\\\Resumes\\\\All resumes\\\\P V Sai Krishna_ Hexaware.docx',\n",
       " 'D:\\\\dataScience\\\\projects\\\\NLP_RESUME_CLASIFICATION\\\\data_sets\\\\Resumes\\\\All resumes\\\\Peoplesoft Admin_AnubhavSingh.docx',\n",
       " 'D:\\\\dataScience\\\\projects\\\\NLP_RESUME_CLASIFICATION\\\\data_sets\\\\Resumes\\\\All resumes\\\\Peoplesoft Admin_G Ananda Rayudu.doc',\n",
       " 'D:\\\\dataScience\\\\projects\\\\NLP_RESUME_CLASIFICATION\\\\data_sets\\\\Resumes\\\\All resumes\\\\Peoplesoft Admin_Gangareddy.doc',\n",
       " 'D:\\\\dataScience\\\\projects\\\\NLP_RESUME_CLASIFICATION\\\\data_sets\\\\Resumes\\\\All resumes\\\\Peoplesoft Admin_Murali.docx',\n",
       " 'D:\\\\dataScience\\\\projects\\\\NLP_RESUME_CLASIFICATION\\\\data_sets\\\\Resumes\\\\All resumes\\\\Peoplesoft Admin_Priyanka Ramadoss.doc',\n",
       " 'D:\\\\dataScience\\\\projects\\\\NLP_RESUME_CLASIFICATION\\\\data_sets\\\\Resumes\\\\All resumes\\\\Peoplesoft Admin_SirazuddinMohammad.docx',\n",
       " 'D:\\\\dataScience\\\\projects\\\\NLP_RESUME_CLASIFICATION\\\\data_sets\\\\Resumes\\\\All resumes\\\\Peoplesoft Admin_srinivasarao.doc',\n",
       " 'D:\\\\dataScience\\\\projects\\\\NLP_RESUME_CLASIFICATION\\\\data_sets\\\\Resumes\\\\All resumes\\\\Peoplesoft Admin_Varkala Vikas.docx',\n",
       " 'D:\\\\dataScience\\\\projects\\\\NLP_RESUME_CLASIFICATION\\\\data_sets\\\\Resumes\\\\All resumes\\\\Peoplesoft Admin_Vinod Akkala.doc',\n",
       " 'D:\\\\dataScience\\\\projects\\\\NLP_RESUME_CLASIFICATION\\\\data_sets\\\\Resumes\\\\All resumes\\\\PeopleSoft DBA_Ganesh Alladi.doc',\n",
       " 'D:\\\\dataScience\\\\projects\\\\NLP_RESUME_CLASIFICATION\\\\data_sets\\\\Resumes\\\\All resumes\\\\PeopleSoft DBA_Vivekanand Sayana.docx',\n",
       " 'D:\\\\dataScience\\\\projects\\\\NLP_RESUME_CLASIFICATION\\\\data_sets\\\\Resumes\\\\All resumes\\\\Peoplesoft Finance_Arun Venu.doc',\n",
       " 'D:\\\\dataScience\\\\projects\\\\NLP_RESUME_CLASIFICATION\\\\data_sets\\\\Resumes\\\\All resumes\\\\Peoplesoft Finance_Pritam Biswas.doc',\n",
       " 'D:\\\\dataScience\\\\projects\\\\NLP_RESUME_CLASIFICATION\\\\data_sets\\\\Resumes\\\\All resumes\\\\Peoplesoft Finance_Rahul Ahuja.doc',\n",
       " 'D:\\\\dataScience\\\\projects\\\\NLP_RESUME_CLASIFICATION\\\\data_sets\\\\Resumes\\\\All resumes\\\\Peoplesoft FSCM_HariNarayana.docx',\n",
       " 'D:\\\\dataScience\\\\projects\\\\NLP_RESUME_CLASIFICATION\\\\data_sets\\\\Resumes\\\\All resumes\\\\Peoplesoft FSCM_Murali.docx',\n",
       " 'D:\\\\dataScience\\\\projects\\\\NLP_RESUME_CLASIFICATION\\\\data_sets\\\\Resumes\\\\All resumes\\\\Peoplesoft FSCM_PriyabrataHota.docx',\n",
       " 'D:\\\\dataScience\\\\projects\\\\NLP_RESUME_CLASIFICATION\\\\data_sets\\\\Resumes\\\\All resumes\\\\Peoplesoft FSCM_R Ahmed.doc',\n",
       " 'D:\\\\dataScience\\\\projects\\\\NLP_RESUME_CLASIFICATION\\\\data_sets\\\\Resumes\\\\All resumes\\\\Peoplesoft FSCM_SUJATHA.docx',\n",
       " 'D:\\\\dataScience\\\\projects\\\\NLP_RESUME_CLASIFICATION\\\\data_sets\\\\Resumes\\\\All resumes\\\\premsai.docx',\n",
       " 'D:\\\\dataScience\\\\projects\\\\NLP_RESUME_CLASIFICATION\\\\data_sets\\\\Resumes\\\\All resumes\\\\Priyanka L.doc',\n",
       " 'D:\\\\dataScience\\\\projects\\\\NLP_RESUME_CLASIFICATION\\\\data_sets\\\\Resumes\\\\All resumes\\\\PSyamKumar[2_3].docx',\n",
       " 'D:\\\\dataScience\\\\projects\\\\NLP_RESUME_CLASIFICATION\\\\data_sets\\\\Resumes\\\\All resumes\\\\Punugoti Swetha_Hexaware.doc',\n",
       " 'D:\\\\dataScience\\\\projects\\\\NLP_RESUME_CLASIFICATION\\\\data_sets\\\\Resumes\\\\All resumes\\\\RahulM_Hexaware.docx',\n",
       " 'D:\\\\dataScience\\\\projects\\\\NLP_RESUME_CLASIFICATION\\\\data_sets\\\\Resumes\\\\All resumes\\\\Rajupavanakumari[2_10].docx',\n",
       " 'D:\\\\dataScience\\\\projects\\\\NLP_RESUME_CLASIFICATION\\\\data_sets\\\\Resumes\\\\All resumes\\\\Ramalakshmi K.docx',\n",
       " 'D:\\\\dataScience\\\\projects\\\\NLP_RESUME_CLASIFICATION\\\\data_sets\\\\Resumes\\\\All resumes\\\\RameshNataru[3_4].docx',\n",
       " 'D:\\\\dataScience\\\\projects\\\\NLP_RESUME_CLASIFICATION\\\\data_sets\\\\Resumes\\\\All resumes\\\\RameshP_Hexaware.docx',\n",
       " 'D:\\\\dataScience\\\\projects\\\\NLP_RESUME_CLASIFICATION\\\\data_sets\\\\Resumes\\\\All resumes\\\\React Developer_Deepakreddy.docx',\n",
       " 'D:\\\\dataScience\\\\projects\\\\NLP_RESUME_CLASIFICATION\\\\data_sets\\\\Resumes\\\\All resumes\\\\React Developer_Haripriya.docx',\n",
       " 'D:\\\\dataScience\\\\projects\\\\NLP_RESUME_CLASIFICATION\\\\data_sets\\\\Resumes\\\\All resumes\\\\React Developer_Kamalakar Reddy.docx',\n",
       " 'D:\\\\dataScience\\\\projects\\\\NLP_RESUME_CLASIFICATION\\\\data_sets\\\\Resumes\\\\All resumes\\\\React Developer_Naveen sadhu.docx',\n",
       " 'D:\\\\dataScience\\\\projects\\\\NLP_RESUME_CLASIFICATION\\\\data_sets\\\\Resumes\\\\All resumes\\\\React Developer_PavasGoswami.doc',\n",
       " 'D:\\\\dataScience\\\\projects\\\\NLP_RESUME_CLASIFICATION\\\\data_sets\\\\Resumes\\\\All resumes\\\\React Developer_Pragnya.docx',\n",
       " 'D:\\\\dataScience\\\\projects\\\\NLP_RESUME_CLASIFICATION\\\\data_sets\\\\Resumes\\\\All resumes\\\\React Developer_Sarala Madasu-converted.docx',\n",
       " 'D:\\\\dataScience\\\\projects\\\\NLP_RESUME_CLASIFICATION\\\\data_sets\\\\Resumes\\\\All resumes\\\\React Developer_Thirupathiamma.docx',\n",
       " 'D:\\\\dataScience\\\\projects\\\\NLP_RESUME_CLASIFICATION\\\\data_sets\\\\Resumes\\\\All resumes\\\\React Developer_Vinay Reddy.doc',\n",
       " 'D:\\\\dataScience\\\\projects\\\\NLP_RESUME_CLASIFICATION\\\\data_sets\\\\Resumes\\\\All resumes\\\\React Dev_Krishna Kanth.docx',\n",
       " 'D:\\\\dataScience\\\\projects\\\\NLP_RESUME_CLASIFICATION\\\\data_sets\\\\Resumes\\\\All resumes\\\\React Dev_Krishna Kanth_Musquare Technologies.docx',\n",
       " 'D:\\\\dataScience\\\\projects\\\\NLP_RESUME_CLASIFICATION\\\\data_sets\\\\Resumes\\\\All resumes\\\\React JS Developer_AnjaniPriyadarshini.doc',\n",
       " 'D:\\\\dataScience\\\\projects\\\\NLP_RESUME_CLASIFICATION\\\\data_sets\\\\Resumes\\\\All resumes\\\\React JS Developer_KotaniDurgaprasad[3_1] (1)-converted.docx',\n",
       " 'D:\\\\dataScience\\\\projects\\\\NLP_RESUME_CLASIFICATION\\\\data_sets\\\\Resumes\\\\All resumes\\\\React JS Developer_Venkatalakshmi (1)-converted.docx',\n",
       " 'D:\\\\dataScience\\\\projects\\\\NLP_RESUME_CLASIFICATION\\\\data_sets\\\\Resumes\\\\All resumes\\\\Reactjs Developer_kambala sai surendra_Musquare Technologies.docx',\n",
       " 'D:\\\\dataScience\\\\projects\\\\NLP_RESUME_CLASIFICATION\\\\data_sets\\\\Resumes\\\\All resumes\\\\Reactjs Developer_M Lokesh Babu_Musquare Technologies.docx',\n",
       " 'D:\\\\dataScience\\\\projects\\\\NLP_RESUME_CLASIFICATION\\\\data_sets\\\\Resumes\\\\All resumes\\\\Reactjs Developer_M Lokesh.docx',\n",
       " 'D:\\\\dataScience\\\\projects\\\\NLP_RESUME_CLASIFICATION\\\\data_sets\\\\Resumes\\\\All resumes\\\\Reactjs Developer_MD Khizaruddin Rauf _Musquare Technologies.docx',\n",
       " 'D:\\\\dataScience\\\\projects\\\\NLP_RESUME_CLASIFICATION\\\\data_sets\\\\Resumes\\\\All resumes\\\\Reactjs Developer_Prabakaran_Musquare Technologies.pdf',\n",
       " 'D:\\\\dataScience\\\\projects\\\\NLP_RESUME_CLASIFICATION\\\\data_sets\\\\Resumes\\\\All resumes\\\\Reactjs Developer_Pranish Sonone_Musquare Technologies.docx',\n",
       " 'D:\\\\dataScience\\\\projects\\\\NLP_RESUME_CLASIFICATION\\\\data_sets\\\\Resumes\\\\All resumes\\\\Reactjs Developer_Ranga Gaganam_Musquare Technologies.docx',\n",
       " 'D:\\\\dataScience\\\\projects\\\\NLP_RESUME_CLASIFICATION\\\\data_sets\\\\Resumes\\\\All resumes\\\\Reactjs Developer_Shaik Abdul Sharuk_Musquare Technologies.docx',\n",
       " 'D:\\\\dataScience\\\\projects\\\\NLP_RESUME_CLASIFICATION\\\\data_sets\\\\Resumes\\\\All resumes\\\\Resume_Subha Santosh_Peoplesoft FSCM.docx',\n",
       " 'D:\\\\dataScience\\\\projects\\\\NLP_RESUME_CLASIFICATION\\\\data_sets\\\\Resumes\\\\All resumes\\\\ShireeshKumar_Hexaware.doc',\n",
       " 'D:\\\\dataScience\\\\projects\\\\NLP_RESUME_CLASIFICATION\\\\data_sets\\\\Resumes\\\\All resumes\\\\Sri Krishna S_Hexaware.doc',\n",
       " 'D:\\\\dataScience\\\\projects\\\\NLP_RESUME_CLASIFICATION\\\\data_sets\\\\Resumes\\\\All resumes\\\\Srikanth-Hexaware.docx',\n",
       " 'D:\\\\dataScience\\\\projects\\\\NLP_RESUME_CLASIFICATION\\\\data_sets\\\\Resumes\\\\All resumes\\\\SSKumar_Hexaware.docx',\n",
       " 'D:\\\\dataScience\\\\projects\\\\NLP_RESUME_CLASIFICATION\\\\data_sets\\\\Resumes\\\\All resumes\\\\Tatikonda Kiran Kumar.doc',\n",
       " 'D:\\\\dataScience\\\\projects\\\\NLP_RESUME_CLASIFICATION\\\\data_sets\\\\Resumes\\\\All resumes\\\\Venkateswarlu B_Hexaware.doc',\n",
       " 'D:\\\\dataScience\\\\projects\\\\NLP_RESUME_CLASIFICATION\\\\data_sets\\\\Resumes\\\\All resumes\\\\Vinay Kumar_Hexaware.docx',\n",
       " 'D:\\\\dataScience\\\\projects\\\\NLP_RESUME_CLASIFICATION\\\\data_sets\\\\Resumes\\\\All resumes\\\\Vinod B.docx']"
      ]
     },
     "execution_count": 3,
     "metadata": {},
     "output_type": "execute_result"
    }
   ],
   "source": [
    "files"
   ]
  },
  {
   "cell_type": "code",
   "execution_count": 5,
   "id": "7fa2c4ec",
   "metadata": {},
   "outputs": [],
   "source": [
    "def docReader(doc_file_name): \n",
    "    ## 1) Initiate an object that interfaces to Word\n",
    "    word = client.Dispatch(\"Word.Application\")\n",
    "    word.Visible = False \n",
    "    \n",
    "    ## 2) Open the Word document to read in\n",
    "    _ = word.Documents.Open(doc_file_name)\n",
    "\n",
    "    ## 3) Extract the paragraphs and close the connections\n",
    "    doc = word.ActiveDocument\n",
    "    paras = doc.Range().text    \n",
    "    doc.Close()\n",
    "    word.Quit()\n",
    "    return paras    "
   ]
  },
  {
   "cell_type": "code",
   "execution_count": 6,
   "id": "7e7d884d",
   "metadata": {},
   "outputs": [],
   "source": [
    "data = []\n",
    "for i in range(len(files)):\n",
    "    if files[i].endswith('docx'):\n",
    "        x = docx2txt.process(files[i])\n",
    "        data.append(x)\n",
    "    if files[i].endswith('doc'):\n",
    "        y = docReader(files[i])\n",
    "        data.append(y)\n",
    "        [a for a in y.replace('\\x07', '\\r').split('\\r') if a]\n",
    "    if files[i].endswith('pdf'):\n",
    "        z = PyPDF2.PdfReader(files[i])\n",
    "        z1 = ''\n",
    "        for j in range(len(z.pages)):\n",
    "            m = z.pages[j].extract_text()\n",
    "            z1 = z1 + m\n",
    "        data.append(z1)\n"
   ]
  },
  {
   "cell_type": "code",
   "execution_count": 7,
   "id": "ad3e20af",
   "metadata": {},
   "outputs": [
    {
     "data": {
      "text/plain": [
       "79"
      ]
     },
     "execution_count": 7,
     "metadata": {},
     "output_type": "execute_result"
    }
   ],
   "source": [
    "len(data)"
   ]
  },
  {
   "cell_type": "code",
   "execution_count": 8,
   "id": "b3040d2e",
   "metadata": {},
   "outputs": [],
   "source": [
    "data = pd.DataFrame(data=data,columns=['data'])"
   ]
  },
  {
   "cell_type": "code",
   "execution_count": 9,
   "id": "ed4b4983",
   "metadata": {},
   "outputs": [
    {
     "data": {
      "text/html": [
       "<div>\n",
       "<style scoped>\n",
       "    .dataframe tbody tr th:only-of-type {\n",
       "        vertical-align: middle;\n",
       "    }\n",
       "\n",
       "    .dataframe tbody tr th {\n",
       "        vertical-align: top;\n",
       "    }\n",
       "\n",
       "    .dataframe thead th {\n",
       "        text-align: right;\n",
       "    }\n",
       "</style>\n",
       "<table border=\"1\" class=\"dataframe\">\n",
       "  <thead>\n",
       "    <tr style=\"text-align: right;\">\n",
       "      <th></th>\n",
       "      <th>data</th>\n",
       "    </tr>\n",
       "  </thead>\n",
       "  <tbody>\n",
       "    <tr>\n",
       "      <th>0</th>\n",
       "      <td>ANIL KUMAR MADDUKURI  \\t\\t\\n\\nSQL &amp; MSBI Devel...</td>\n",
       "    </tr>\n",
       "    <tr>\n",
       "      <th>1</th>\n",
       "      <td>Aradhana Tripathi\\n\\n\\n\\nCurrent Location: Gac...</td>\n",
       "    </tr>\n",
       "    <tr>\n",
       "      <th>2</th>\n",
       "      <td>BUDDHA VAMSI                                  ...</td>\n",
       "    </tr>\n",
       "    <tr>\n",
       "      <th>3</th>\n",
       "      <td>Chinna Subbarayudu M\\n\\nDOB: 06th March 1994\\n...</td>\n",
       "    </tr>\n",
       "    <tr>\n",
       "      <th>4</th>\n",
       "      <td>Name         : Gopi Krishna Reddy\\n\\n\\t\\t\\t\\t ...</td>\n",
       "    </tr>\n",
       "    <tr>\n",
       "      <th>...</th>\n",
       "      <td>...</td>\n",
       "    </tr>\n",
       "    <tr>\n",
       "      <th>74</th>\n",
       "      <td>WORKDAY | HCM | FCM\\n\\nName \\t\\t: Kumar S.S\\n\\...</td>\n",
       "    </tr>\n",
       "    <tr>\n",
       "      <th>75</th>\n",
       "      <td>Career objective\\r\\t\\rA rewarding opportunity ...</td>\n",
       "    </tr>\n",
       "    <tr>\n",
       "      <th>76</th>\n",
       "      <td>Venkateswarlu.B\\t\\t\\t\\t\\t\\t\\t\\tWorkday Consult...</td>\n",
       "    </tr>\n",
       "    <tr>\n",
       "      <th>77</th>\n",
       "      <td>Vinay kumar .v\\nWorkday Functional Consultant\\...</td>\n",
       "    </tr>\n",
       "    <tr>\n",
       "      <th>78</th>\n",
       "      <td>SQL AND MSBI DEVELOPER\\n\\nSQL AND MSBI DEVELOP...</td>\n",
       "    </tr>\n",
       "  </tbody>\n",
       "</table>\n",
       "<p>79 rows × 1 columns</p>\n",
       "</div>"
      ],
      "text/plain": [
       "                                                 data\n",
       "0   ANIL KUMAR MADDUKURI  \\t\\t\\n\\nSQL & MSBI Devel...\n",
       "1   Aradhana Tripathi\\n\\n\\n\\nCurrent Location: Gac...\n",
       "2   BUDDHA VAMSI                                  ...\n",
       "3   Chinna Subbarayudu M\\n\\nDOB: 06th March 1994\\n...\n",
       "4   Name         : Gopi Krishna Reddy\\n\\n\\t\\t\\t\\t ...\n",
       "..                                                ...\n",
       "74  WORKDAY | HCM | FCM\\n\\nName \\t\\t: Kumar S.S\\n\\...\n",
       "75  Career objective\\r\\t\\rA rewarding opportunity ...\n",
       "76  Venkateswarlu.B\\t\\t\\t\\t\\t\\t\\t\\tWorkday Consult...\n",
       "77  Vinay kumar .v\\nWorkday Functional Consultant\\...\n",
       "78  SQL AND MSBI DEVELOPER\\n\\nSQL AND MSBI DEVELOP...\n",
       "\n",
       "[79 rows x 1 columns]"
      ]
     },
     "execution_count": 9,
     "metadata": {},
     "output_type": "execute_result"
    }
   ],
   "source": [
    "data"
   ]
  },
  {
   "cell_type": "code",
   "execution_count": 10,
   "id": "1b957418",
   "metadata": {},
   "outputs": [],
   "source": [
    "name = []\n",
    "for i in range(len(files)):\n",
    "    tem = files[i].split('\\\\')\n",
    "    name.append(tem[-1])"
   ]
  },
  {
   "cell_type": "code",
   "execution_count": 11,
   "id": "5ed1df13",
   "metadata": {},
   "outputs": [],
   "source": [
    "names = []\n",
    "for i in range(len(name)):\n",
    "    d = name[i].split('.')\n",
    "    names.append(d[0])"
   ]
  },
  {
   "cell_type": "code",
   "execution_count": 12,
   "id": "751fa888",
   "metadata": {},
   "outputs": [],
   "source": [
    "names = pd.DataFrame(data = names,columns=[\"names\"])"
   ]
  },
  {
   "cell_type": "code",
   "execution_count": 13,
   "id": "b9315dea",
   "metadata": {},
   "outputs": [],
   "source": [
    "df = pd.concat([data,names],axis=1)"
   ]
  },
  {
   "cell_type": "code",
   "execution_count": 14,
   "id": "f86d3651",
   "metadata": {},
   "outputs": [
    {
     "data": {
      "text/html": [
       "<div>\n",
       "<style scoped>\n",
       "    .dataframe tbody tr th:only-of-type {\n",
       "        vertical-align: middle;\n",
       "    }\n",
       "\n",
       "    .dataframe tbody tr th {\n",
       "        vertical-align: top;\n",
       "    }\n",
       "\n",
       "    .dataframe thead th {\n",
       "        text-align: right;\n",
       "    }\n",
       "</style>\n",
       "<table border=\"1\" class=\"dataframe\">\n",
       "  <thead>\n",
       "    <tr style=\"text-align: right;\">\n",
       "      <th></th>\n",
       "      <th>data</th>\n",
       "      <th>names</th>\n",
       "    </tr>\n",
       "  </thead>\n",
       "  <tbody>\n",
       "    <tr>\n",
       "      <th>0</th>\n",
       "      <td>ANIL KUMAR MADDUKURI  \\t\\t\\n\\nSQL &amp; MSBI Devel...</td>\n",
       "      <td>Anil kumar</td>\n",
       "    </tr>\n",
       "    <tr>\n",
       "      <th>1</th>\n",
       "      <td>Aradhana Tripathi\\n\\n\\n\\nCurrent Location: Gac...</td>\n",
       "      <td>AradhanaTripathi[4_0]</td>\n",
       "    </tr>\n",
       "    <tr>\n",
       "      <th>2</th>\n",
       "      <td>BUDDHA VAMSI                                  ...</td>\n",
       "      <td>Buddha Vamsi</td>\n",
       "    </tr>\n",
       "    <tr>\n",
       "      <th>3</th>\n",
       "      <td>Chinna Subbarayudu M\\n\\nDOB: 06th March 1994\\n...</td>\n",
       "      <td>ChinnaSubbarayuduM_Hexaware</td>\n",
       "    </tr>\n",
       "    <tr>\n",
       "      <th>4</th>\n",
       "      <td>Name         : Gopi Krishna Reddy\\n\\n\\t\\t\\t\\t ...</td>\n",
       "      <td>Gopi Krishna_Hexaware</td>\n",
       "    </tr>\n",
       "    <tr>\n",
       "      <th>...</th>\n",
       "      <td>...</td>\n",
       "      <td>...</td>\n",
       "    </tr>\n",
       "    <tr>\n",
       "      <th>74</th>\n",
       "      <td>WORKDAY | HCM | FCM\\n\\nName \\t\\t: Kumar S.S\\n\\...</td>\n",
       "      <td>SSKumar_Hexaware</td>\n",
       "    </tr>\n",
       "    <tr>\n",
       "      <th>75</th>\n",
       "      <td>Career objective\\r\\t\\rA rewarding opportunity ...</td>\n",
       "      <td>Tatikonda Kiran Kumar</td>\n",
       "    </tr>\n",
       "    <tr>\n",
       "      <th>76</th>\n",
       "      <td>Venkateswarlu.B\\t\\t\\t\\t\\t\\t\\t\\tWorkday Consult...</td>\n",
       "      <td>Venkateswarlu B_Hexaware</td>\n",
       "    </tr>\n",
       "    <tr>\n",
       "      <th>77</th>\n",
       "      <td>Vinay kumar .v\\nWorkday Functional Consultant\\...</td>\n",
       "      <td>Vinay Kumar_Hexaware</td>\n",
       "    </tr>\n",
       "    <tr>\n",
       "      <th>78</th>\n",
       "      <td>SQL AND MSBI DEVELOPER\\n\\nSQL AND MSBI DEVELOP...</td>\n",
       "      <td>Vinod B</td>\n",
       "    </tr>\n",
       "  </tbody>\n",
       "</table>\n",
       "<p>79 rows × 2 columns</p>\n",
       "</div>"
      ],
      "text/plain": [
       "                                                 data  \\\n",
       "0   ANIL KUMAR MADDUKURI  \\t\\t\\n\\nSQL & MSBI Devel...   \n",
       "1   Aradhana Tripathi\\n\\n\\n\\nCurrent Location: Gac...   \n",
       "2   BUDDHA VAMSI                                  ...   \n",
       "3   Chinna Subbarayudu M\\n\\nDOB: 06th March 1994\\n...   \n",
       "4   Name         : Gopi Krishna Reddy\\n\\n\\t\\t\\t\\t ...   \n",
       "..                                                ...   \n",
       "74  WORKDAY | HCM | FCM\\n\\nName \\t\\t: Kumar S.S\\n\\...   \n",
       "75  Career objective\\r\\t\\rA rewarding opportunity ...   \n",
       "76  Venkateswarlu.B\\t\\t\\t\\t\\t\\t\\t\\tWorkday Consult...   \n",
       "77  Vinay kumar .v\\nWorkday Functional Consultant\\...   \n",
       "78  SQL AND MSBI DEVELOPER\\n\\nSQL AND MSBI DEVELOP...   \n",
       "\n",
       "                          names  \n",
       "0                    Anil kumar  \n",
       "1         AradhanaTripathi[4_0]  \n",
       "2                  Buddha Vamsi  \n",
       "3   ChinnaSubbarayuduM_Hexaware  \n",
       "4         Gopi Krishna_Hexaware  \n",
       "..                          ...  \n",
       "74             SSKumar_Hexaware  \n",
       "75        Tatikonda Kiran Kumar  \n",
       "76     Venkateswarlu B_Hexaware  \n",
       "77         Vinay Kumar_Hexaware  \n",
       "78                      Vinod B  \n",
       "\n",
       "[79 rows x 2 columns]"
      ]
     },
     "execution_count": 14,
     "metadata": {},
     "output_type": "execute_result"
    }
   ],
   "source": [
    "df"
   ]
  },
  {
   "cell_type": "markdown",
   "id": "0c9cfe30",
   "metadata": {},
   "source": [
    "## ---------------------------------------------------------------- "
   ]
  },
  {
   "cell_type": "code",
   "execution_count": 15,
   "id": "a084c891",
   "metadata": {},
   "outputs": [],
   "source": [
    "test = spacy.load('en_core_web_sm')"
   ]
  },
  {
   "cell_type": "code",
   "execution_count": 16,
   "id": "e77544a7",
   "metadata": {},
   "outputs": [],
   "source": [
    "skills = []\n",
    "for i in range(len(df.data)):\n",
    "    ts = test(\" \".join(df.data[i].split('\\n'))) # we have splitted our data with '\\n' and rejoined with space. \n",
    "    tt = []\n",
    "    for ent in ts.ents:\n",
    "      if ent.label_.upper() == 'ORG':\n",
    "        tt.append(ent.text)\n",
    "    skills.append(tt)"
   ]
  },
  {
   "cell_type": "code",
   "execution_count": 17,
   "id": "8c1e14cf",
   "metadata": {},
   "outputs": [],
   "source": [
    "df['skills']=0"
   ]
  },
  {
   "cell_type": "code",
   "execution_count": 18,
   "id": "799f1caf",
   "metadata": {},
   "outputs": [
    {
     "name": "stderr",
     "output_type": "stream",
     "text": [
      "C:\\Users\\Vinay Sai\\AppData\\Local\\Temp\\ipykernel_20540\\1437166324.py:2: SettingWithCopyWarning: \n",
      "A value is trying to be set on a copy of a slice from a DataFrame\n",
      "\n",
      "See the caveats in the documentation: https://pandas.pydata.org/pandas-docs/stable/user_guide/indexing.html#returning-a-view-versus-a-copy\n",
      "  df.skills[i] = skills[i]\n"
     ]
    }
   ],
   "source": [
    "for i in range(len(df.skills)):\n",
    "    df.skills[i] = skills[i]"
   ]
  },
  {
   "cell_type": "code",
   "execution_count": 19,
   "id": "fa99d6c9",
   "metadata": {},
   "outputs": [
    {
     "data": {
      "text/html": [
       "<div>\n",
       "<style scoped>\n",
       "    .dataframe tbody tr th:only-of-type {\n",
       "        vertical-align: middle;\n",
       "    }\n",
       "\n",
       "    .dataframe tbody tr th {\n",
       "        vertical-align: top;\n",
       "    }\n",
       "\n",
       "    .dataframe thead th {\n",
       "        text-align: right;\n",
       "    }\n",
       "</style>\n",
       "<table border=\"1\" class=\"dataframe\">\n",
       "  <thead>\n",
       "    <tr style=\"text-align: right;\">\n",
       "      <th></th>\n",
       "      <th>data</th>\n",
       "      <th>names</th>\n",
       "      <th>skills</th>\n",
       "    </tr>\n",
       "  </thead>\n",
       "  <tbody>\n",
       "    <tr>\n",
       "      <th>0</th>\n",
       "      <td>ANIL KUMAR MADDUKURI  \\t\\t\\n\\nSQL &amp; MSBI Devel...</td>\n",
       "      <td>Anil kumar</td>\n",
       "      <td>[KUMAR, SQL &amp; MSBI Developer       \\t\\t    Sum...</td>\n",
       "    </tr>\n",
       "    <tr>\n",
       "      <th>1</th>\n",
       "      <td>Aradhana Tripathi\\n\\n\\n\\nCurrent Location: Gac...</td>\n",
       "      <td>AradhanaTripathi[4_0]</td>\n",
       "      <td>[information technology &amp; Service, SQL Databas...</td>\n",
       "    </tr>\n",
       "    <tr>\n",
       "      <th>2</th>\n",
       "      <td>BUDDHA VAMSI                                  ...</td>\n",
       "      <td>Buddha Vamsi</td>\n",
       "      <td>[Database Engineer, Fluentgrid Limited Visakha...</td>\n",
       "    </tr>\n",
       "    <tr>\n",
       "      <th>3</th>\n",
       "      <td>Chinna Subbarayudu M\\n\\nDOB: 06th March 1994\\n...</td>\n",
       "      <td>ChinnaSubbarayuduM_Hexaware</td>\n",
       "      <td>[Implementation of ERP, Workday HCM, ETL, Anal...</td>\n",
       "    </tr>\n",
       "    <tr>\n",
       "      <th>4</th>\n",
       "      <td>Name         : Gopi Krishna Reddy\\n\\n\\t\\t\\t\\t ...</td>\n",
       "      <td>Gopi Krishna_Hexaware</td>\n",
       "      <td>[Report Writing, Integration of HCM, Inbound a...</td>\n",
       "    </tr>\n",
       "    <tr>\n",
       "      <th>...</th>\n",
       "      <td>...</td>\n",
       "      <td>...</td>\n",
       "      <td>...</td>\n",
       "    </tr>\n",
       "    <tr>\n",
       "      <th>74</th>\n",
       "      <td>WORKDAY | HCM | FCM\\n\\nName \\t\\t: Kumar S.S\\n\\...</td>\n",
       "      <td>SSKumar_Hexaware</td>\n",
       "      <td>[WORKDAY, HCM, FCM, Workday Consultant     Pro...</td>\n",
       "    </tr>\n",
       "    <tr>\n",
       "      <th>75</th>\n",
       "      <td>Career objective\\r\\t\\rA rewarding opportunity ...</td>\n",
       "      <td>Tatikonda Kiran Kumar</td>\n",
       "      <td>[MICROSOFT, Recursive CTE, SQL Server, TCL, Vi...</td>\n",
       "    </tr>\n",
       "    <tr>\n",
       "      <th>76</th>\n",
       "      <td>Venkateswarlu.B\\t\\t\\t\\t\\t\\t\\t\\tWorkday Consult...</td>\n",
       "      <td>Venkateswarlu B_Hexaware</td>\n",
       "      <td>[Maintaining Workday HCM Reporting and, Integr...</td>\n",
       "    </tr>\n",
       "    <tr>\n",
       "      <th>77</th>\n",
       "      <td>Vinay kumar .v\\nWorkday Functional Consultant\\...</td>\n",
       "      <td>Vinay Kumar_Hexaware</td>\n",
       "      <td>[Workday (Core HCM, Supervisory Organization, ...</td>\n",
       "    </tr>\n",
       "    <tr>\n",
       "      <th>78</th>\n",
       "      <td>SQL AND MSBI DEVELOPER\\n\\nSQL AND MSBI DEVELOP...</td>\n",
       "      <td>Vinod B</td>\n",
       "      <td>[SQL, SQL, SQL SERVER, Microsoft Business Inte...</td>\n",
       "    </tr>\n",
       "  </tbody>\n",
       "</table>\n",
       "<p>79 rows × 3 columns</p>\n",
       "</div>"
      ],
      "text/plain": [
       "                                                 data  \\\n",
       "0   ANIL KUMAR MADDUKURI  \\t\\t\\n\\nSQL & MSBI Devel...   \n",
       "1   Aradhana Tripathi\\n\\n\\n\\nCurrent Location: Gac...   \n",
       "2   BUDDHA VAMSI                                  ...   \n",
       "3   Chinna Subbarayudu M\\n\\nDOB: 06th March 1994\\n...   \n",
       "4   Name         : Gopi Krishna Reddy\\n\\n\\t\\t\\t\\t ...   \n",
       "..                                                ...   \n",
       "74  WORKDAY | HCM | FCM\\n\\nName \\t\\t: Kumar S.S\\n\\...   \n",
       "75  Career objective\\r\\t\\rA rewarding opportunity ...   \n",
       "76  Venkateswarlu.B\\t\\t\\t\\t\\t\\t\\t\\tWorkday Consult...   \n",
       "77  Vinay kumar .v\\nWorkday Functional Consultant\\...   \n",
       "78  SQL AND MSBI DEVELOPER\\n\\nSQL AND MSBI DEVELOP...   \n",
       "\n",
       "                          names  \\\n",
       "0                    Anil kumar   \n",
       "1         AradhanaTripathi[4_0]   \n",
       "2                  Buddha Vamsi   \n",
       "3   ChinnaSubbarayuduM_Hexaware   \n",
       "4         Gopi Krishna_Hexaware   \n",
       "..                          ...   \n",
       "74             SSKumar_Hexaware   \n",
       "75        Tatikonda Kiran Kumar   \n",
       "76     Venkateswarlu B_Hexaware   \n",
       "77         Vinay Kumar_Hexaware   \n",
       "78                      Vinod B   \n",
       "\n",
       "                                               skills  \n",
       "0   [KUMAR, SQL & MSBI Developer       \\t\\t    Sum...  \n",
       "1   [information technology & Service, SQL Databas...  \n",
       "2   [Database Engineer, Fluentgrid Limited Visakha...  \n",
       "3   [Implementation of ERP, Workday HCM, ETL, Anal...  \n",
       "4   [Report Writing, Integration of HCM, Inbound a...  \n",
       "..                                                ...  \n",
       "74  [WORKDAY, HCM, FCM, Workday Consultant     Pro...  \n",
       "75  [MICROSOFT, Recursive CTE, SQL Server, TCL, Vi...  \n",
       "76  [Maintaining Workday HCM Reporting and, Integr...  \n",
       "77  [Workday (Core HCM, Supervisory Organization, ...  \n",
       "78  [SQL, SQL, SQL SERVER, Microsoft Business Inte...  \n",
       "\n",
       "[79 rows x 3 columns]"
      ]
     },
     "execution_count": 19,
     "metadata": {},
     "output_type": "execute_result"
    }
   ],
   "source": [
    "df"
   ]
  },
  {
   "cell_type": "code",
   "execution_count": 20,
   "id": "335cbda4",
   "metadata": {},
   "outputs": [],
   "source": [
    "df.drop('data', axis=1, inplace=True)"
   ]
  },
  {
   "cell_type": "code",
   "execution_count": 21,
   "id": "7aefe3a9",
   "metadata": {},
   "outputs": [
    {
     "data": {
      "text/html": [
       "<div>\n",
       "<style scoped>\n",
       "    .dataframe tbody tr th:only-of-type {\n",
       "        vertical-align: middle;\n",
       "    }\n",
       "\n",
       "    .dataframe tbody tr th {\n",
       "        vertical-align: top;\n",
       "    }\n",
       "\n",
       "    .dataframe thead th {\n",
       "        text-align: right;\n",
       "    }\n",
       "</style>\n",
       "<table border=\"1\" class=\"dataframe\">\n",
       "  <thead>\n",
       "    <tr style=\"text-align: right;\">\n",
       "      <th></th>\n",
       "      <th>names</th>\n",
       "      <th>skills</th>\n",
       "    </tr>\n",
       "  </thead>\n",
       "  <tbody>\n",
       "    <tr>\n",
       "      <th>0</th>\n",
       "      <td>Anil kumar</td>\n",
       "      <td>[KUMAR, SQL &amp; MSBI Developer       \\t\\t    Sum...</td>\n",
       "    </tr>\n",
       "    <tr>\n",
       "      <th>1</th>\n",
       "      <td>AradhanaTripathi[4_0]</td>\n",
       "      <td>[information technology &amp; Service, SQL Databas...</td>\n",
       "    </tr>\n",
       "    <tr>\n",
       "      <th>2</th>\n",
       "      <td>Buddha Vamsi</td>\n",
       "      <td>[Database Engineer, Fluentgrid Limited Visakha...</td>\n",
       "    </tr>\n",
       "    <tr>\n",
       "      <th>3</th>\n",
       "      <td>ChinnaSubbarayuduM_Hexaware</td>\n",
       "      <td>[Implementation of ERP, Workday HCM, ETL, Anal...</td>\n",
       "    </tr>\n",
       "    <tr>\n",
       "      <th>4</th>\n",
       "      <td>Gopi Krishna_Hexaware</td>\n",
       "      <td>[Report Writing, Integration of HCM, Inbound a...</td>\n",
       "    </tr>\n",
       "    <tr>\n",
       "      <th>...</th>\n",
       "      <td>...</td>\n",
       "      <td>...</td>\n",
       "    </tr>\n",
       "    <tr>\n",
       "      <th>74</th>\n",
       "      <td>SSKumar_Hexaware</td>\n",
       "      <td>[WORKDAY, HCM, FCM, Workday Consultant     Pro...</td>\n",
       "    </tr>\n",
       "    <tr>\n",
       "      <th>75</th>\n",
       "      <td>Tatikonda Kiran Kumar</td>\n",
       "      <td>[MICROSOFT, Recursive CTE, SQL Server, TCL, Vi...</td>\n",
       "    </tr>\n",
       "    <tr>\n",
       "      <th>76</th>\n",
       "      <td>Venkateswarlu B_Hexaware</td>\n",
       "      <td>[Maintaining Workday HCM Reporting and, Integr...</td>\n",
       "    </tr>\n",
       "    <tr>\n",
       "      <th>77</th>\n",
       "      <td>Vinay Kumar_Hexaware</td>\n",
       "      <td>[Workday (Core HCM, Supervisory Organization, ...</td>\n",
       "    </tr>\n",
       "    <tr>\n",
       "      <th>78</th>\n",
       "      <td>Vinod B</td>\n",
       "      <td>[SQL, SQL, SQL SERVER, Microsoft Business Inte...</td>\n",
       "    </tr>\n",
       "  </tbody>\n",
       "</table>\n",
       "<p>79 rows × 2 columns</p>\n",
       "</div>"
      ],
      "text/plain": [
       "                          names  \\\n",
       "0                    Anil kumar   \n",
       "1         AradhanaTripathi[4_0]   \n",
       "2                  Buddha Vamsi   \n",
       "3   ChinnaSubbarayuduM_Hexaware   \n",
       "4         Gopi Krishna_Hexaware   \n",
       "..                          ...   \n",
       "74             SSKumar_Hexaware   \n",
       "75        Tatikonda Kiran Kumar   \n",
       "76     Venkateswarlu B_Hexaware   \n",
       "77         Vinay Kumar_Hexaware   \n",
       "78                      Vinod B   \n",
       "\n",
       "                                               skills  \n",
       "0   [KUMAR, SQL & MSBI Developer       \\t\\t    Sum...  \n",
       "1   [information technology & Service, SQL Databas...  \n",
       "2   [Database Engineer, Fluentgrid Limited Visakha...  \n",
       "3   [Implementation of ERP, Workday HCM, ETL, Anal...  \n",
       "4   [Report Writing, Integration of HCM, Inbound a...  \n",
       "..                                                ...  \n",
       "74  [WORKDAY, HCM, FCM, Workday Consultant     Pro...  \n",
       "75  [MICROSOFT, Recursive CTE, SQL Server, TCL, Vi...  \n",
       "76  [Maintaining Workday HCM Reporting and, Integr...  \n",
       "77  [Workday (Core HCM, Supervisory Organization, ...  \n",
       "78  [SQL, SQL, SQL SERVER, Microsoft Business Inte...  \n",
       "\n",
       "[79 rows x 2 columns]"
      ]
     },
     "execution_count": 21,
     "metadata": {},
     "output_type": "execute_result"
    }
   ],
   "source": [
    "df"
   ]
  },
  {
   "cell_type": "markdown",
   "id": "ae83ab42",
   "metadata": {},
   "source": [
    "\n",
    "## Exploratory Data Analysis (EDA)"
   ]
  },
  {
   "cell_type": "markdown",
   "id": "574deed6",
   "metadata": {},
   "source": [
    "- converting every string into lower case"
   ]
  },
  {
   "cell_type": "code",
   "execution_count": 22,
   "id": "1c32de13",
   "metadata": {},
   "outputs": [],
   "source": [
    "for i in range(len(df.skills)):\n",
    "    lower_words=[Text.lower() for Text in df.skills[i]]\n",
    "    df.skills[i] = lower_words"
   ]
  },
  {
   "cell_type": "code",
   "execution_count": 23,
   "id": "7338d904",
   "metadata": {
    "scrolled": false
   },
   "outputs": [
    {
     "data": {
      "text/plain": [
       "['workday (core hcm, supervisory organization, delegation, cost center',\n",
       " 'workday functional and integrations',\n",
       " 'hcm core, compensation',\n",
       " 'payroll',\n",
       " 'performance management',\n",
       " 'user based & job based',\n",
       " 'matrix and composite',\n",
       " 'calculated fields',\n",
       " 'eib',\n",
       " 'connectors',\n",
       " 'xml',\n",
       " 'organization structure & custom objects',\n",
       " 'supervisory organizations, matrix organizations, compensation',\n",
       " 'performance management',\n",
       " 'time management, business process',\n",
       " 'workday skills                   : reports,',\n",
       " 'workday business processes',\n",
       " 'eib',\n",
       " 'core connector',\n",
       " 'languages / tools             :',\n",
       " 'xml',\n",
       " 'xslt & studio',\n",
       " 'microsoft',\n",
       " 'microsoft',\n",
       " 'microsoft powerpoint',\n",
       " 'narayana engineering college',\n",
       " 'eib',\n",
       " 'template location',\n",
       " 'document transformation',\n",
       " 'integration',\n",
       " 'outbound eib integration',\n",
       " 'eib',\n",
       " 'created eib inbound integrations',\n",
       " 'bank',\n",
       " 'developed core connector',\n",
       " 'csv',\n",
       " 'cr-change requests',\n",
       " 'eibs',\n",
       " 'workday hcm',\n",
       " 'customized',\n",
       " 'used file layout definition',\n",
       " 'peoplesoft',\n",
       " 'developed/modified',\n",
       " 'ps',\n",
       " 'ps query',\n",
       " 'xml',\n",
       " 'file layout',\n",
       " 'component interface',\n",
       " 'ci']"
      ]
     },
     "execution_count": 23,
     "metadata": {},
     "output_type": "execute_result"
    }
   ],
   "source": [
    "df.skills[77]"
   ]
  },
  {
   "cell_type": "code",
   "execution_count": 24,
   "id": "ef59f04c",
   "metadata": {},
   "outputs": [
    {
     "data": {
      "text/plain": [
       "'workday (core hcm, supervisory organization, delegation, cost center'"
      ]
     },
     "execution_count": 24,
     "metadata": {},
     "output_type": "execute_result"
    }
   ],
   "source": [
    "df.skills[77][0]"
   ]
  },
  {
   "cell_type": "code",
   "execution_count": 25,
   "id": "ec36ab10",
   "metadata": {},
   "outputs": [],
   "source": [
    "for i in range(len(df.skills)):\n",
    "    ab =[]\n",
    "    for j in range(len(df.skills[i])):\n",
    "        jk = re.split(r'[,(\\n\\t:]', df.skills[i][j]) # splitting the objects using ,,(,\\n,\\t,:\n",
    "        ab = jk + ab\n",
    "    df.skills[i] = ab "
   ]
  },
  {
   "cell_type": "code",
   "execution_count": 26,
   "id": "a488c9d5",
   "metadata": {
    "scrolled": false
   },
   "outputs": [
    {
     "data": {
      "text/plain": [
       "['ci',\n",
       " 'component interface',\n",
       " 'file layout',\n",
       " 'xml',\n",
       " 'ps query',\n",
       " 'ps',\n",
       " 'developed/modified',\n",
       " 'peoplesoft',\n",
       " 'used file layout definition',\n",
       " 'customized',\n",
       " 'workday hcm',\n",
       " 'eibs',\n",
       " 'cr-change requests',\n",
       " 'csv',\n",
       " 'developed core connector',\n",
       " 'bank',\n",
       " 'created eib inbound integrations',\n",
       " 'eib',\n",
       " 'outbound eib integration',\n",
       " 'integration',\n",
       " 'document transformation',\n",
       " 'template location',\n",
       " 'eib',\n",
       " 'narayana engineering college',\n",
       " 'microsoft powerpoint',\n",
       " 'microsoft',\n",
       " 'microsoft',\n",
       " 'xslt & studio',\n",
       " 'xml',\n",
       " 'languages / tools             ',\n",
       " '',\n",
       " 'core connector',\n",
       " 'eib',\n",
       " 'workday business processes',\n",
       " 'workday skills                   ',\n",
       " ' reports',\n",
       " '',\n",
       " 'time management',\n",
       " ' business process',\n",
       " 'performance management',\n",
       " 'supervisory organizations',\n",
       " ' matrix organizations',\n",
       " ' compensation',\n",
       " 'organization structure & custom objects',\n",
       " 'xml',\n",
       " 'connectors',\n",
       " 'eib',\n",
       " 'calculated fields',\n",
       " 'matrix and composite',\n",
       " 'user based & job based',\n",
       " 'performance management',\n",
       " 'payroll',\n",
       " 'hcm core',\n",
       " ' compensation',\n",
       " 'workday functional and integrations',\n",
       " 'workday ',\n",
       " 'core hcm',\n",
       " ' supervisory organization',\n",
       " ' delegation',\n",
       " ' cost center']"
      ]
     },
     "execution_count": 26,
     "metadata": {},
     "output_type": "execute_result"
    }
   ],
   "source": [
    "df.skills[77]"
   ]
  },
  {
   "cell_type": "code",
   "execution_count": 27,
   "id": "cc560a33",
   "metadata": {},
   "outputs": [
    {
     "data": {
      "text/plain": [
       "60"
      ]
     },
     "execution_count": 27,
     "metadata": {},
     "output_type": "execute_result"
    }
   ],
   "source": [
    "len(df.skills[77])"
   ]
  },
  {
   "cell_type": "code",
   "execution_count": 28,
   "id": "87ebe716",
   "metadata": {},
   "outputs": [
    {
     "data": {
      "text/plain": [
       "names     0\n",
       "skills    0\n",
       "dtype: int64"
      ]
     },
     "execution_count": 28,
     "metadata": {},
     "output_type": "execute_result"
    }
   ],
   "source": [
    "df.isnull().sum()"
   ]
  },
  {
   "cell_type": "code",
   "execution_count": 29,
   "id": "333ac2b0",
   "metadata": {},
   "outputs": [
    {
     "name": "stdout",
     "output_type": "stream",
     "text": [
      "<class 'pandas.core.frame.DataFrame'>\n",
      "RangeIndex: 79 entries, 0 to 78\n",
      "Data columns (total 2 columns):\n",
      " #   Column  Non-Null Count  Dtype \n",
      "---  ------  --------------  ----- \n",
      " 0   names   79 non-null     object\n",
      " 1   skills  79 non-null     object\n",
      "dtypes: object(2)\n",
      "memory usage: 1.4+ KB\n"
     ]
    }
   ],
   "source": [
    "df.info()"
   ]
  },
  {
   "cell_type": "markdown",
   "id": "6abf92d9",
   "metadata": {},
   "source": [
    "- finding duplicates"
   ]
  },
  {
   "cell_type": "code",
   "execution_count": 30,
   "id": "f05a91eb",
   "metadata": {},
   "outputs": [],
   "source": [
    "from collections import Counter"
   ]
  },
  {
   "cell_type": "code",
   "execution_count": 31,
   "id": "6981df28",
   "metadata": {
    "scrolled": true
   },
   "outputs": [
    {
     "name": "stdout",
     "output_type": "stream",
     "text": [
      "{'ssrs': 2, 'ssis': 5, 'ms sql server': 2, 'sql server integration services': 2, 'etl': 2, 'union all': 2}\n",
      "{'ms sql server': 2, 'roles & responsibilities': 4, 'sql': 4, 'project description': 2, 'athena': 8, 'sas': 4, 'sql database developer': 2}\n",
      "{'etl': 2, 'pl/sql-oracle': 3, 'oracle': 2, 'ms-sql': 3, 'database engineer': 2}\n",
      "{'': 2, 'sql': 3, 'created': 3, 'payroll': 2, 'workday hcm': 3, 'eib': 5, 'uat': 2, 'ccw': 2, 'dt': 2, 'workday studio': 2, 'picof': 2, 'etl': 2, 'analysis': 2, ' design': 2, 'xml': 3}\n",
      "{'xslt': 2, 'xml': 2, 'eib': 3, 'calculated fields': 2}\n",
      "{'peoplesoft': 4, 'xml': 2, 'eib': 6, 'roles &responsibilities': 2, 'toyota': 7, 'xslt': 2, 'calculated fields': 2, 'hcm': 3, 'job profiles': 2}\n",
      "{'sqr': 4, 'microsoft': 3, 'sql': 2, 'component interface': 2, 'peoplesoft': 3, 'eib': 9, 'workday report writer': 2, 'xtt': 2, 'core connectors': 3, 'frd': 2, 'hris': 2, 'payroll': 2}\n",
      "{' hyderabad': 3}\n",
      "{'xslt': 4, 'eib': 4, 'picof': 2}\n",
      "{'integration test': 2}\n",
      "{'css': 3}\n",
      "{'eib': 3, 'core connector': 2, 'calculated fields': 2, 'xslt': 2, 'xml': 2}\n",
      "{'education': 2, 'sec': 2, 'job profiles': 2}\n",
      "{'ssis': 5, 'ssrs': 2, 'ui': 2, 'wells fargo capital finance': 3, 'sql server': 3}\n",
      "{'informatica': 3, 'etl': 2, 'uat': 3, 'workday studio': 2, 'picof': 2, 'dt': 2, 'eib': 4, 'ccw': 2, 'analysis': 2, ' design': 2, 'xml': 3}\n",
      "{'': 2, 'xml': 4, 'xslt': 3, 'eib': 8, 'core connectors': 2, 'core connector': 3}\n",
      "{'xml': 2, 'customized': 2, '\\x07thomson reuters corporation': 2, 'eib': 5, 'core connectors': 2, 'xslt': 3, 'calculated fields': 2, 'workday hcm': 2, 'thomson reuters corporation': 2, 'hire': 2}\n",
      "{'sql': 5, 'developed power bi': 2, 'the users for specific data': 4, 'the power bi online services': 4, 'power bi service': 2, 'sql server': 3, 'power bi desktop': 2, 'power bi': 9, 'kpi': 2}\n",
      "{'views': 3, 'sql': 5, 'bolt': 5, 'back office legacy transition': 2, 'pl/sql': 4}\n",
      "{'eib': 4, 'calculated fields': 2}\n",
      "{'weblogic': 3, 'upgraded people tool 8.53': 2, 'peoplesoft': 8, 'application servers': 2, '': 18, 'pum': 2, 'security teams': 2, 'cpu': 2, 'peoplesoft administration': 2, 'oracle    repository': 2, 'financials': 2, 'peoplesoft hcm': 2, 'shell scripting    application': 2}\n",
      "{'ddd': 2, 'sys': 2, 'peoplesoft': 13, 'fixes': 3, 'download updates': 2, 'application': 2, 'dpk': 2, 'jdk': 2, 'weblogic': 4}\n",
      "{'sql': 3, 'peoplesoft administrator/dba\\renvironment': 2, 'pum': 2, 'ssl': 2, 'peoplesoft': 3, 'oracle ses': 2, 'application server': 2, '': 2, 'ms-sql server': 2, 'peoplesoft server administration - expertise': 2}\n",
      "{'performing post': 3, 'pum': 2, 'peoplesoft reporting': 2, 'stat': 2, 'people soft': 3, 'dates  organization  role': 2, 'oracle': 2, 'process': 3, 'application': 3}\n",
      "{'ppm': 2, 'peoplesoft': 7}\n",
      "{'peopletools': 2, 'hcm': 3, 'peoplesoft': 7}\n",
      "{'sysaudit': 6, 'troubleshoot': 5, 'esa': 4, 'hcm': 5, 'elm': 4, 'lintel': 3, 'aix': 3, 'sql': 10, 'addm': 5, 'awr': 5, 'em': 5, 'motioning': 3, 'integration of peoplesoft': 5, 'setup integration broker': 5, 'pia': 9, 'peoplesoft internet architecture': 5, 'hrcs': 2, 'peoplesoft': 26, 'unix & windows 2008 server  64bit  \\rdatabase': 2, 'oracle data': 3, 'jolt': 2, 'application servers': 3, 'troubleshoot of data': 2, 'application server domains': 2, 'sqr': 2, 'pum': 4, 'application': 2, 'installed elastic': 2, 'integration broker': 2, 'oracle': 2, 'peoplesoft administrator': 2}\n",
      "{'sysaudit': 2, 'peoplesoft': 10, 'pum': 5, 'peoplesoft update': 4, 'data migrations': 2, 'project migrations': 2, 'data mover': 2, 'peopletools': 3, 'pia': 2, 'integration broker': 2, 'application server domains': 2}\n",
      "{'pum': 9, 'peoplesoft': 16, 'sysaudit': 2, 'application': 6, 'unix': 5, 'dev': 7, 'pia': 4, 'people tools version': 5, 'profiles': 4, 'datapump technology': 4, 'peoplesoft refreshes': 5, 'database administration': 3, 'process scheduler & web server': 3, 'rman': 3, 'oracle': 3, 'hcm': 4, 'oracle 10': 2, 'peoplesoft database administrator': 4, 'fscm application': 2, 'table spaces': 2, 'data': 2, 'resetting passwords': 2, 'database security management': 2, ' users': 2, 'upgrading': 3, 'project migration': 2, 'peoplesoft update': 3, ' migrating and patching oracle': 2, 'peoplesoft security': 2}\n",
      "{'sysaudit': 2, 'peoplesoft': 12, 'application': 2, 'pum': 5, 'peoplesoft update': 4, 'data migrations': 2, 'project migrations': 3, 'data mover': 3, 'peopletools': 3, 'pia': 2, 'oracle weblogic': 2, 'integration broker': 3, 'application server domains': 4, 'data guard': 2, 'hp-ux': 2, 'san information technology solutions pvt. ltd': 2, 'oracle enterprise linux': 4, 'ses': 2, 'hcm': 2}\n",
      "{'peoplesoft': 32, 'application servers': 6, 'troubleshoot of data': 2, 'application server domains': 5, 'sysaudit': 4, 'pum': 12, 'applied patches': 3, 'download peoplesoft update image': 3, 'fixes': 3, 'download updates': 3, 'data migrations': 4, 'project migrations': 4, 'success  perform remote': 2, 'the reports ran': 3, 'monitoring application': 3, 'application': 4, 'applying patches & fixes': 3, 'handled application management': 3, 'integration broker': 5, 'pia': 4, 'admin/peoplesoft dba                                                     duration                     ': 3, 'red hat': 3, 'weblogic': 4, 'peopletools': 5, 'hcm': 3, '': 3, 'peoplesoft systems administrator': 2, 'nagarjuna university': 2, 'oracle enterprise linux': 5, 'data mover': 2, 'ses': 2, 'peoplesoft update': 3, 'dpk': 2}\n",
      "{'psquery': 3, 'petco': 2, 'animal supplies': 2, 'peopletools': 3, 'ap': 3, 'the go-live': 2, 'uat': 2, 'gl': 2, 'peoplesoft': 2, '\\x07credit suisse group ag': 3, 'mss': 4, 'ps query': 2, 'sqr': 2, 'bi publisher': 2}\n",
      "{'ibm': 3, 'bi publisher': 3, 'ps query': 5, 'iws': 3, 'sqr': 3, 'peoplesoft': 4, 'team': 3, 'finance': 2, 'hcm': 2}\n",
      "{'maintaining &': 5, 'uat': 2, 'sit': 2, 'components': 3, ' application engines': 4, 'custom components': 3, 'gbm': 6, 'ps fscm 9.2': 4, 'defect prevention': 2, 'qat': 3, 'data mover': 4, 'data': 3, 'rotary international': 3, 'rotary international infotech private limited': 3, 'international offices': 3, 'evanston': 3, 'integration broker': 3, 'ftp': 2, 'sqr': 2, 'xml publisher': 2, 'workflow notification': 2, 'ps security': 2}\n",
      "{'oracle': 2, ' windows': 2, 'peoplesoft': 2, 'uat': 2, 'sit': 2, 'design application': 2, 'fdd': 2, 'andhra pradesh': 2}\n",
      "{'oracle': 2, ' windows': 2, 'peoplesoft': 2, 'uat': 2, 'sit': 2, 'design application': 2, 'fdd': 2, 'andhra pradesh': 2}\n",
      "{'oracle sql developer  database': 2, 'ps query': 2, 'people tools': 2, 'ps': 2}\n",
      "{'peoplesoft': 3, 'xml publisher': 2, 'ps query': 2}\n",
      "{}\n",
      "{'created constraints': 2, 'sql': 6, 'application': 2, 'integrated simple commerce solution': 4, 'microsoft': 2, 'sql server': 3}\n",
      "{'sql': 2, 'ssis': 3, 'merge': 2, 'sql server': 2}\n",
      "{'qa': 2, 'sql server': 2, 'ssis': 3, 'sql': 2, 'etl': 2}\n",
      "{'domains': 2, 'csv': 4, 'xtt': 2, 'etv': 2, 'core connectors': 2, 'eib': 5, 'created inbound/outbound': 2, 'core connector': 2, 'document transformation': 2, 'fireeye': 3}\n",
      "{'ps': 2, 'cdk global': 2, 'hcm': 5, 'implementation & support': 2, 'dt': 4, 'peci': 2, 'picof': 5, 'payroll': 3, 'api': 2, 'eib': 5, 'business process': 2, 'wd': 2, 'xslt': 4, 'adp': 2, 'xml': 3}\n",
      "{'views': 2, 'sql server': 2, 'aetna': 2}\n",
      "{'ap': 2, 'etl': 2, 'cube': 2, 'aditya birla group': 2, 'sql': 2, 'ssis': 2}\n",
      "{'trace': 2, 'british gas': 2, 'ssis': 7, 'ssrs': 8, 'sql': 5, 'sql server reporting services': 2, 'sql server integration services': 2}\n",
      "{'': 14, 'eib': 5}\n",
      "{'dom': 2, 'ap': 2}\n",
      "{'css': 3, 'javascript': 2, 'html': 2}\n",
      "{'javascript': 2, 'hyderabad': 2, 'monarch tractor': 2}\n",
      "{}\n",
      "{'kanpur': 2, 'matlab': 2}\n",
      "{'ui developer': 2}\n",
      "{'sri sai junior college': 2, 'b.tech': 2, 'css': 2, 'html': 2, 'wesatage': 2}\n",
      "{'gpa': 3, 'predifast technologies private limited': 2}\n",
      "{'javascript': 3, 'optimization': 2, 'js developer': 2}\n",
      "{'github': 2, 'javascript': 5, ' bootstrap': 2, 'css3': 2, 'react js': 2, 'xml': 2}\n",
      "{'github': 2, 'javascript': 5, ' bootstrap': 2, 'css3': 2, 'react js': 2, 'xml': 2}\n",
      "{'android': 2, 'the in charge for quality testing': 2, 'working with team in implementing': 2, 'ge': 2, 'css': 2}\n",
      "{'jquery': 7, 'css3': 4, 'byron': 2, 'javascript': 4, ' bootstrap': 2, 'html5': 2, 'react js': 2}\n",
      "{'css': 2}\n",
      "{'pragati engineering college': 2, 'jquery': 2, 'css': 3, 'html': 2, 'github-link': 2, '”https': 2, '//github.com': 2, 'javascript': 2}\n",
      "{'css': 4, 'javascript': 2}\n",
      "{'css': 4, 'javascript': 2}\n",
      "{}\n",
      "{'xml': 2, 'android': 3, 'css': 2}\n",
      "{'  ': 4, 'css': 2, 'jr. react developer': 2, 'html5': 2}\n",
      "{'ec': 2, 'nehru technological university': 2, 'ui developer': 2, 'js developer': 2}\n",
      "{'frameworks     version control system': 2, 'javascript': 2, 'css3': 2}\n",
      "{}\n",
      "{'hris': 2, 'servicenow': 2, 'tachus software solutions': 2, 'uat': 3, 'eib': 2, 'functional regression': 2, 'eron infoways pvt ltd': 2, 'osmania university college of commerce & business management': 2, ' hyderabad': 2}\n",
      "{'xml': 3, 'eib': 8, 'payroll': 2, 'iam': 2, 'calculated fields': 2, 'xslt': 2, 'workday studio': 2, 'uat': 2, 'supported workday hcm system testing': 2, 'picof': 2}\n",
      "{'xml': 3, 'picof': 4, 'ccw': 2, 'studio': 2, 'hcm': 4, 'eib': 4, 'wd': 2, 'dt': 2, 'core hcm': 2, 'workday': 2, 'business process': 2}\n",
      "{'ci': 2, 'file layout': 2, 'peoplesoft': 2, 'ap': 2, 'eib': 6, 'picof': 2, 'xslt': 3, 'calculated fields': 2, 'peci': 4, 'dt': 2, '': 2, 'xml': 2, 'soap': 2, 'core connector': 2, 'hcm': 2}\n",
      "{}\n",
      "{'picof': 5, 'eib': 5, ' matrix': 2, 'support &implementation of workday hcm': 2, 'xml': 3, 'payroll': 3, 'hcm': 3, 'aig': 3, 'general insurance': 2, 'workday security': 2, 'workday studio': 2}\n",
      "{'xml': 3, 'eib': 4, 'microsoft': 2, '': 2, 'performance management': 2, ' compensation': 2}\n",
      "{'nano bi analytical': 3, 'joins': 2, 'national skill development corporation': 2, 'ssrs': 2, 'ssis': 2, 'sql': 6}\n"
     ]
    }
   ],
   "source": [
    "for i in range(len(df.skills)):\n",
    "    numbers = df.skills[i]\n",
    "    counts = dict(Counter(numbers))\n",
    "    duplicates = {key:value for key, value in counts.items() if value > 1}\n",
    "    print(duplicates)"
   ]
  },
  {
   "cell_type": "markdown",
   "id": "f1cf6ad4",
   "metadata": {},
   "source": [
    "- Removing duplicates"
   ]
  },
  {
   "cell_type": "code",
   "execution_count": 32,
   "id": "c910a612",
   "metadata": {},
   "outputs": [],
   "source": [
    "for i in range(len(df.skills)):\n",
    "    lm = set(df.skills[i])\n",
    "    df.skills[i] = list(lm)"
   ]
  },
  {
   "cell_type": "markdown",
   "id": "0ce0fcc6",
   "metadata": {},
   "source": [
    "- checking for duplicates agian "
   ]
  },
  {
   "cell_type": "code",
   "execution_count": 33,
   "id": "55044b99",
   "metadata": {
    "scrolled": true
   },
   "outputs": [
    {
     "name": "stdout",
     "output_type": "stream",
     "text": [
      "{}\n",
      "{}\n",
      "{}\n",
      "{}\n",
      "{}\n",
      "{}\n",
      "{}\n",
      "{}\n",
      "{}\n",
      "{}\n",
      "{}\n",
      "{}\n",
      "{}\n",
      "{}\n",
      "{}\n",
      "{}\n",
      "{}\n",
      "{}\n",
      "{}\n",
      "{}\n",
      "{}\n",
      "{}\n",
      "{}\n",
      "{}\n",
      "{}\n",
      "{}\n",
      "{}\n",
      "{}\n",
      "{}\n",
      "{}\n",
      "{}\n",
      "{}\n",
      "{}\n",
      "{}\n",
      "{}\n",
      "{}\n",
      "{}\n",
      "{}\n",
      "{}\n",
      "{}\n",
      "{}\n",
      "{}\n",
      "{}\n",
      "{}\n",
      "{}\n",
      "{}\n",
      "{}\n",
      "{}\n",
      "{}\n",
      "{}\n",
      "{}\n",
      "{}\n",
      "{}\n",
      "{}\n",
      "{}\n",
      "{}\n",
      "{}\n",
      "{}\n",
      "{}\n",
      "{}\n",
      "{}\n",
      "{}\n",
      "{}\n",
      "{}\n",
      "{}\n",
      "{}\n",
      "{}\n",
      "{}\n",
      "{}\n",
      "{}\n",
      "{}\n",
      "{}\n",
      "{}\n",
      "{}\n",
      "{}\n",
      "{}\n",
      "{}\n",
      "{}\n",
      "{}\n"
     ]
    }
   ],
   "source": [
    "for i in range(len(df.skills)):\n",
    "    numbers = df.skills[i]\n",
    "    counts = dict(Counter(numbers))\n",
    "    duplicates = {key:value for key, value in counts.items() if value > 1}\n",
    "    print(duplicates)"
   ]
  },
  {
   "cell_type": "code",
   "execution_count": 34,
   "id": "21135658",
   "metadata": {
    "scrolled": true
   },
   "outputs": [
    {
     "data": {
      "text/plain": [
       "0     [csv, , aetna, aetna insurance, ms sql server,...\n",
       "1     [mca, sql server management studio,  union, ms...\n",
       "2     [school/college  board/university  percentage ...\n",
       "3     [, project deliverables, workday advanced repo...\n",
       "4     [workday report writer, csv, schedulers and re...\n",
       "                            ...                        \n",
       "74    [, workday enterprise interface builder, ps qu...\n",
       "75    [m.com, \u0007norton’s hospital, recursive cte, sec...\n",
       "76    [workday advanced report writer, picof, workda...\n",
       "77    [csv, , integration, core connector,  compensa...\n",
       "78    [, excel/flatfile, sql server integration, bac...\n",
       "Name: skills, Length: 79, dtype: object"
      ]
     },
     "execution_count": 34,
     "metadata": {},
     "output_type": "execute_result"
    }
   ],
   "source": [
    "df.skills"
   ]
  },
  {
   "cell_type": "code",
   "execution_count": 35,
   "id": "bd4ce4ee",
   "metadata": {},
   "outputs": [
    {
     "name": "stdout",
     "output_type": "stream",
     "text": [
      "['csv', '', 'integration', 'core connector', ' compensation', 'workday skills                   ', ' supervisory organization', ' delegation', 'created eib inbound integrations', 'time management', 'document transformation', 'performance management', 'workday hcm', 'narayana engineering college', 'developed core connector', ' matrix organizations', 'languages / tools             ', 'connectors', 'outbound eib integration', ' business process', 'workday ', 'ci', 'eibs', 'organization structure & custom objects', 'workday business processes', 'workday functional and integrations', 'microsoft powerpoint', 'microsoft', 'eib', 'xslt & studio', 'ps query', 'customized', 'xml', 'bank', 'developed/modified', 'file layout', 'user based & job based', ' reports', 'matrix and composite', 'ps', 'component interface', 'peoplesoft', 'used file layout definition', 'template location', 'core hcm', ' cost center', 'supervisory organizations', 'calculated fields', 'cr-change requests', 'hcm core', 'payroll']\n"
     ]
    }
   ],
   "source": [
    "print(df.skills[77])"
   ]
  },
  {
   "cell_type": "code",
   "execution_count": 36,
   "id": "b45c25bd",
   "metadata": {},
   "outputs": [
    {
     "data": {
      "text/html": [
       "<div>\n",
       "<style scoped>\n",
       "    .dataframe tbody tr th:only-of-type {\n",
       "        vertical-align: middle;\n",
       "    }\n",
       "\n",
       "    .dataframe tbody tr th {\n",
       "        vertical-align: top;\n",
       "    }\n",
       "\n",
       "    .dataframe thead th {\n",
       "        text-align: right;\n",
       "    }\n",
       "</style>\n",
       "<table border=\"1\" class=\"dataframe\">\n",
       "  <thead>\n",
       "    <tr style=\"text-align: right;\">\n",
       "      <th></th>\n",
       "      <th>names</th>\n",
       "      <th>skills</th>\n",
       "    </tr>\n",
       "  </thead>\n",
       "  <tbody>\n",
       "    <tr>\n",
       "      <th>0</th>\n",
       "      <td>Anil kumar</td>\n",
       "      <td>[csv, , aetna, aetna insurance, ms sql server,...</td>\n",
       "    </tr>\n",
       "    <tr>\n",
       "      <th>1</th>\n",
       "      <td>AradhanaTripathi[4_0]</td>\n",
       "      <td>[mca, sql server management studio,  union, ms...</td>\n",
       "    </tr>\n",
       "    <tr>\n",
       "      <th>2</th>\n",
       "      <td>Buddha Vamsi</td>\n",
       "      <td>[school/college  board/university  percentage ...</td>\n",
       "    </tr>\n",
       "    <tr>\n",
       "      <th>3</th>\n",
       "      <td>ChinnaSubbarayuduM_Hexaware</td>\n",
       "      <td>[, project deliverables, workday advanced repo...</td>\n",
       "    </tr>\n",
       "    <tr>\n",
       "      <th>4</th>\n",
       "      <td>Gopi Krishna_Hexaware</td>\n",
       "      <td>[workday report writer, csv, schedulers and re...</td>\n",
       "    </tr>\n",
       "    <tr>\n",
       "      <th>...</th>\n",
       "      <td>...</td>\n",
       "      <td>...</td>\n",
       "    </tr>\n",
       "    <tr>\n",
       "      <th>74</th>\n",
       "      <td>SSKumar_Hexaware</td>\n",
       "      <td>[, workday enterprise interface builder, ps qu...</td>\n",
       "    </tr>\n",
       "    <tr>\n",
       "      <th>75</th>\n",
       "      <td>Tatikonda Kiran Kumar</td>\n",
       "      <td>[m.com, \u0007norton’s hospital, recursive cte, sec...</td>\n",
       "    </tr>\n",
       "    <tr>\n",
       "      <th>76</th>\n",
       "      <td>Venkateswarlu B_Hexaware</td>\n",
       "      <td>[workday advanced report writer, picof, workda...</td>\n",
       "    </tr>\n",
       "    <tr>\n",
       "      <th>77</th>\n",
       "      <td>Vinay Kumar_Hexaware</td>\n",
       "      <td>[csv, , integration, core connector,  compensa...</td>\n",
       "    </tr>\n",
       "    <tr>\n",
       "      <th>78</th>\n",
       "      <td>Vinod B</td>\n",
       "      <td>[, excel/flatfile, sql server integration, bac...</td>\n",
       "    </tr>\n",
       "  </tbody>\n",
       "</table>\n",
       "<p>79 rows × 2 columns</p>\n",
       "</div>"
      ],
      "text/plain": [
       "                          names  \\\n",
       "0                    Anil kumar   \n",
       "1         AradhanaTripathi[4_0]   \n",
       "2                  Buddha Vamsi   \n",
       "3   ChinnaSubbarayuduM_Hexaware   \n",
       "4         Gopi Krishna_Hexaware   \n",
       "..                          ...   \n",
       "74             SSKumar_Hexaware   \n",
       "75        Tatikonda Kiran Kumar   \n",
       "76     Venkateswarlu B_Hexaware   \n",
       "77         Vinay Kumar_Hexaware   \n",
       "78                      Vinod B   \n",
       "\n",
       "                                               skills  \n",
       "0   [csv, , aetna, aetna insurance, ms sql server,...  \n",
       "1   [mca, sql server management studio,  union, ms...  \n",
       "2   [school/college  board/university  percentage ...  \n",
       "3   [, project deliverables, workday advanced repo...  \n",
       "4   [workday report writer, csv, schedulers and re...  \n",
       "..                                                ...  \n",
       "74  [, workday enterprise interface builder, ps qu...  \n",
       "75  [m.com, \u0007norton’s hospital, recursive cte, sec...  \n",
       "76  [workday advanced report writer, picof, workda...  \n",
       "77  [csv, , integration, core connector,  compensa...  \n",
       "78  [, excel/flatfile, sql server integration, bac...  \n",
       "\n",
       "[79 rows x 2 columns]"
      ]
     },
     "execution_count": 36,
     "metadata": {},
     "output_type": "execute_result"
    }
   ],
   "source": [
    "df"
   ]
  },
  {
   "cell_type": "code",
   "execution_count": 37,
   "id": "a2867f27",
   "metadata": {},
   "outputs": [
    {
     "data": {
      "text/plain": [
       "names     object\n",
       "skills    object\n",
       "dtype: object"
      ]
     },
     "execution_count": 37,
     "metadata": {},
     "output_type": "execute_result"
    }
   ],
   "source": [
    "df.dtypes"
   ]
  },
  {
   "cell_type": "code",
   "execution_count": 38,
   "id": "66d84d09",
   "metadata": {},
   "outputs": [
    {
     "data": {
      "text/html": [
       "<div>\n",
       "<style scoped>\n",
       "    .dataframe tbody tr th:only-of-type {\n",
       "        vertical-align: middle;\n",
       "    }\n",
       "\n",
       "    .dataframe tbody tr th {\n",
       "        vertical-align: top;\n",
       "    }\n",
       "\n",
       "    .dataframe thead th {\n",
       "        text-align: right;\n",
       "    }\n",
       "</style>\n",
       "<table border=\"1\" class=\"dataframe\">\n",
       "  <thead>\n",
       "    <tr style=\"text-align: right;\">\n",
       "      <th></th>\n",
       "      <th>names</th>\n",
       "      <th>skills</th>\n",
       "    </tr>\n",
       "  </thead>\n",
       "  <tbody>\n",
       "    <tr>\n",
       "      <th>count</th>\n",
       "      <td>79</td>\n",
       "      <td>79</td>\n",
       "    </tr>\n",
       "    <tr>\n",
       "      <th>unique</th>\n",
       "      <td>79</td>\n",
       "      <td>77</td>\n",
       "    </tr>\n",
       "    <tr>\n",
       "      <th>top</th>\n",
       "      <td>Anil kumar</td>\n",
       "      <td>[, css, projects  project #1, php, jquery, car...</td>\n",
       "    </tr>\n",
       "    <tr>\n",
       "      <th>freq</th>\n",
       "      <td>1</td>\n",
       "      <td>2</td>\n",
       "    </tr>\n",
       "  </tbody>\n",
       "</table>\n",
       "</div>"
      ],
      "text/plain": [
       "             names                                             skills\n",
       "count           79                                                 79\n",
       "unique          79                                                 77\n",
       "top     Anil kumar  [, css, projects  project #1, php, jquery, car...\n",
       "freq             1                                                  2"
      ]
     },
     "execution_count": 38,
     "metadata": {},
     "output_type": "execute_result"
    }
   ],
   "source": [
    "df.describe()"
   ]
  },
  {
   "cell_type": "code",
   "execution_count": null,
   "id": "6ae21079",
   "metadata": {},
   "outputs": [],
   "source": []
  }
 ],
 "metadata": {
  "kernelspec": {
   "display_name": "Python 3 (ipykernel)",
   "language": "python",
   "name": "python3"
  },
  "language_info": {
   "codemirror_mode": {
    "name": "ipython",
    "version": 3
   },
   "file_extension": ".py",
   "mimetype": "text/x-python",
   "name": "python",
   "nbconvert_exporter": "python",
   "pygments_lexer": "ipython3",
   "version": "3.9.13"
  }
 },
 "nbformat": 4,
 "nbformat_minor": 5
}
